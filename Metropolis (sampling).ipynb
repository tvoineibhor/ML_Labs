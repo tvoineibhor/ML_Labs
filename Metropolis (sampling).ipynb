{
 "cells": [
  {
   "cell_type": "code",
   "execution_count": 1,
   "id": "31fbe56f",
   "metadata": {},
   "outputs": [],
   "source": [
    "%matplotlib inline\n",
    "\n",
    "import numpy as np\n",
    "import scipy as sp\n",
    "import pandas as pd\n",
    "import matplotlib.pyplot as plt\n",
    "import seaborn as sns\n",
    "import math\n",
    "\n",
    "from scipy.stats import norm"
   ]
  },
  {
   "cell_type": "code",
   "execution_count": 2,
   "id": "0da6878e",
   "metadata": {},
   "outputs": [],
   "source": [
    "N = 10000\n",
    "mu = 64.\n",
    "sigma = 3.5\n",
    "\n",
    "X = np.random.normal(mu, sigma, size=N)\n",
    "X_obs = X[np.random.randint(0, N, 1000)]"
   ]
  },
  {
   "cell_type": "code",
   "execution_count": 3,
   "id": "49bc7810",
   "metadata": {},
   "outputs": [
    {
     "data": {
      "text/plain": [
       "(63.98684761107187, 3.5024458573837247)"
      ]
     },
     "execution_count": 3,
     "metadata": {},
     "output_type": "execute_result"
    },
    {
     "data": {
      "image/png": "[encoded data removed]",
      "text/plain": [
       "<Figure size 360x360 with 1 Axes>"
      ]
     },
     "metadata": {
      "needs_background": "light"
     },
     "output_type": "display_data"
    }
   ],
   "source": [
    "fig = plt.figure(figsize=(5,5))\n",
    "ax = fig.add_subplot(1,1,1)\n",
    "ax.hist(X_obs,bins=35)\n",
    "ax.set_title(\"10000 with mu=64, sigma=3.5\")\n",
    "mu_obs=X_obs.mean()\n",
    "(mu_obs, X_obs.std())"
   ]
  },
  {
   "cell_type": "code",
   "execution_count": 4,
   "id": "1d406409",
   "metadata": {},
   "outputs": [],
   "source": [
    "transition_model = lambda theta: [theta[0], np.random.normal(theta[1], 0.5)]\n",
    "\n",
    "def log_like_normal(theta, data):\n",
    "    \n",
    "    mu = theta[0]\n",
    "    sigma = theta[1]\n",
    "    n = data.size\n",
    "    \n",
    "    return np.sum(-np.log(sigma * np.sqrt(2 * np.pi) )-((data-mu)**2) / (2 * sigma ** 2))\n",
    "    \n",
    "\n",
    "def acceptance(x, x_new):\n",
    "    if x_new > x:\n",
    "        return True\n",
    "    else:\n",
    "        accept=np.random.uniform(0,1)\n",
    "        return (accept < (np.exp(x_new-x)))\n",
    "\n",
    "def prior(x):\n",
    "    if(x[1] <=0):\n",
    "        return 0\n",
    "    return 1\n",
    "\n",
    "def metropolis(transition_model, param_init, iterations, data):\n",
    "    \n",
    "    theta = param_init\n",
    "    accepted = []\n",
    "\n",
    "    for i in range(iterations):\n",
    "        theta_new =  transition_model(theta)\n",
    "        theta_lik = log_like_normal(theta, data)\n",
    "        theta_new_lik = log_like_normal(theta_new, data) \n",
    "        \n",
    "        if (acceptance(theta_lik + np.log(prior(theta)), theta_new_lik + np.log(prior(theta_new)))):\n",
    "            theta = theta_new\n",
    "            accepted.append(theta_new)            \n",
    "                \n",
    "    return np.array(accepted)"
   ]
  },
  {
   "cell_type": "code",
   "execution_count": 5,
   "id": "ab1d6cd7",
   "metadata": {},
   "outputs": [],
   "source": [
    "theta = np.array([mu_obs, 0.1])"
   ]
  },
  {
   "cell_type": "code",
   "execution_count": 6,
   "id": "e6354960",
   "metadata": {},
   "outputs": [
    {
     "name": "stderr",
     "output_type": "stream",
     "text": [
      "<ipython-input-4-d6a0a2602b2d>:9: RuntimeWarning: invalid value encountered in log\n",
      "  return np.sum(-np.log(sigma * np.sqrt(2 * np.pi) )-((data-mu)**2) / (2 * sigma ** 2))\n",
      "<ipython-input-4-d6a0a2602b2d>:34: RuntimeWarning: divide by zero encountered in log\n",
      "  if (acceptance(theta_lik + np.log(prior(theta)), theta_new_lik + np.log(prior(theta_new)))):\n"
     ]
    },
    {
     "data": {
      "text/plain": [
       "3.506580343580387"
      ]
     },
     "execution_count": 6,
     "metadata": {},
     "output_type": "execute_result"
    }
   ],
   "source": [
    "accepted = metropolis(transition_model , theta, 50000, X_obs)\n",
    "accepted[:,0].mean()\n",
    "accepted[:,1].mean()"
   ]
  },
  {
   "cell_type": "code",
   "execution_count": 7,
   "id": "898476d1",
   "metadata": {},
   "outputs": [
    {
     "name": "stdout",
     "output_type": "stream",
     "text": [
      "63.98684761107187 3.506580343580387\n"
     ]
    },
    {
     "data": {
      "text/plain": [
       "<matplotlib.legend.Legend at 0x21bc7a1afd0>"
      ]
     },
     "execution_count": 7,
     "metadata": {},
     "output_type": "execute_result"
    },
    {
     "data": {
      "image/png": "[encoded data removed]",
      "text/plain": [
       "<Figure size 720x720 with 1 Axes>"
      ]
     },
     "metadata": {
      "needs_background": "light"
     },
     "output_type": "display_data"
    }
   ],
   "source": [
    "mu = accepted[:,0].mean()\n",
    "sigma = accepted[:,1].mean()\n",
    "\n",
    "print(mu, sigma)\n",
    "\n",
    "model = lambda t,mu,sigma:np.random.normal(mu, sigma, t)\n",
    "observation_gen=model(X.shape[0], mu, sigma)\n",
    "\n",
    "fig = plt.figure(figsize=(10,10))\n",
    "ax = fig.add_subplot(1,1,1)\n",
    "\n",
    "ax.hist( observation_gen, bins=70 ,label=\"Predicted 10,000\")\n",
    "ax.hist( X,bins=70 ,alpha=0.5, label=\"Original 10,000\")\n",
    "\n",
    "ax.legend()"
   ]
  },
  {
   "cell_type": "code",
   "execution_count": null,
   "id": "71aaf7c8",
   "metadata": {},
   "outputs": [],
   "source": []
  }
 ],
 "metadata": {
  "kernelspec": {
   "display_name": "Python 3",
   "language": "python",
   "name": "python3"
  },
  "language_info": {
   "codemirror_mode": {
    "name": "ipython",
    "version": 3
   },
   "file_extension": ".py",
   "mimetype": "text/x-python",
   "name": "python",
   "nbconvert_exporter": "python",
   "pygments_lexer": "ipython3",
   "version": "3.8.8"
  }
 },
 "nbformat": 4,
 "nbformat_minor": 5
}
