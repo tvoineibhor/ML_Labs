{
 "cells": [
  {
   "cell_type": "code",
   "execution_count": 1,
   "metadata": {
    "id": "EzYOvzUsMOX7"
   },
   "outputs": [],
   "source": [
    "import pygmo as pg"
   ]
  },
  {
   "cell_type": "markdown",
   "metadata": {},
   "source": [
    "Тестовая функция для оптимизации: $f(x,y)=(x+2y-7)^2 + (2x+y-5)^2$\n",
    "Область поиска: $-10 \\leq x \\leq 10 , -10 \\leq y \\leq 10$"
   ]
  },
  {
   "cell_type": "code",
   "execution_count": 2,
   "metadata": {
    "id": "iJIhuWp7NVYA"
   },
   "outputs": [],
   "source": [
    "class booth_func:\n",
    "        def fitness(self, x):\n",
    "                return [(x[0]+2*x[1]-7)**2 + (2*x[0]+x[1]-5)**2]\n",
    "\n",
    "        def get_bounds(self):\n",
    "                return ([-10, -10], [10, 10])"
   ]
  },
  {
   "cell_type": "code",
   "execution_count": 3,
   "metadata": {
    "id": "9TqqlsmDNXV_"
   },
   "outputs": [],
   "source": [
    "prob = pg.problem(booth_func())"
   ]
  },
  {
   "cell_type": "markdown",
   "metadata": {},
   "source": [
    "В качестве метода глобальной оптимизации испольуется пчелиная колония"
   ]
  },
  {
   "cell_type": "code",
   "execution_count": 4,
   "metadata": {
    "id": "YBKtd1Q9NYTi"
   },
   "outputs": [],
   "source": [
    "algo = pg.algorithm(pg.bee_colony(gen = 100, limit = 200))\n",
    "pop = pg.population(prob, 5)\n",
    "pop = algo.evolve(pop)"
   ]
  },
  {
   "cell_type": "markdown",
   "metadata": {},
   "source": [
    "Вектор решения"
   ]
  },
  {
   "cell_type": "code",
   "execution_count": 5,
   "metadata": {
    "colab": {
     "base_uri": "https://localhost:8080/"
    },
    "id": "_5_z31xcNZBA",
    "outputId": "d8c66581-c1c7-4977-8808-9d901307395b"
   },
   "outputs": [
    {
     "data": {
      "text/plain": [
       "array([1.00664501, 2.99388636])"
      ]
     },
     "execution_count": 5,
     "metadata": {},
     "output_type": "execute_result"
    }
   ],
   "source": [
    "pop.champion_x"
   ]
  },
  {
   "cell_type": "markdown",
   "metadata": {},
   "source": [
    "Вектор приспособленности"
   ]
  },
  {
   "cell_type": "code",
   "execution_count": 6,
   "metadata": {
    "colab": {
     "base_uri": "https://localhost:8080/"
    },
    "id": "4ppkV-AKNaMI",
    "outputId": "405c7d7e-fff9-4887-e6bb-f02ec5b9a23b"
   },
   "outputs": [
    {
     "data": {
      "text/plain": [
       "array([8.26621382e-05])"
      ]
     },
     "execution_count": 6,
     "metadata": {},
     "output_type": "execute_result"
    }
   ],
   "source": [
    "pop.champion_f"
   ]
  }
 ],
 "metadata": {
  "colab": {
   "collapsed_sections": [],
   "name": "pygmo-evolve.ipynb",
   "provenance": []
  },
  "kernelspec": {
   "display_name": "Python 3",
   "language": "python",
   "name": "python3"
  },
  "language_info": {
   "codemirror_mode": {
    "name": "ipython",
    "version": 3
   },
   "file_extension": ".py",
   "mimetype": "text/x-python",
   "name": "python",
   "nbconvert_exporter": "python",
   "pygments_lexer": "ipython3",
   "version": "3.8.8"
  }
 },
 "nbformat": 4,
 "nbformat_minor": 1
}
